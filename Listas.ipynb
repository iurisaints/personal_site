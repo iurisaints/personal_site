{
  "nbformat": 4,
  "nbformat_minor": 0,
  "metadata": {
    "colab": {
      "name": "Listas.ipynb",
      "provenance": [],
      "authorship_tag": "ABX9TyOZiMjWbYnqYCLOvrOiWFaS",
      "include_colab_link": true
    },
    "kernelspec": {
      "name": "python3",
      "display_name": "Python 3"
    },
    "language_info": {
      "name": "python"
    }
  },
  "cells": [
    {
      "cell_type": "markdown",
      "metadata": {
        "id": "view-in-github",
        "colab_type": "text"
      },
      "source": [
        "<a href=\"https://colab.research.google.com/github/iurisaints/personal_site/blob/main/Listas.ipynb\" target=\"_parent\"><img src=\"https://colab.research.google.com/assets/colab-badge.svg\" alt=\"Open In Colab\"/></a>"
      ]
    },
    {
      "cell_type": "markdown",
      "source": [
        "Criando uma lista comum em Python"
      ],
      "metadata": {
        "id": "b4nGUjSPIDLl"
      }
    },
    {
      "cell_type": "code",
      "execution_count": null,
      "metadata": {
        "colab": {
          "base_uri": "https://localhost:8080/"
        },
        "id": "pajPVVUAIBgP",
        "outputId": "5ad41aed-afa8-43f7-a588-290217cdc09f"
      },
      "outputs": [
        {
          "output_type": "stream",
          "name": "stdout",
          "text": [
            "iuri nascimento santos\n"
          ]
        }
      ],
      "source": [
        "nome = ['iuri', 'nascimento', 'santos']\n",
        "print(nome[0], nome[1], nome[2])"
      ]
    },
    {
      "cell_type": "markdown",
      "source": [
        "Imprimindo meu nome através de lista com as letras iniciais em maíusculo"
      ],
      "metadata": {
        "id": "5_0f2Q_7IZ29"
      }
    },
    {
      "cell_type": "code",
      "source": [
        "nome = ['iuri', 'nascimento', 'santos']\n",
        "print(nome[0].title(), nome[1].title(), nome[2].title())"
      ],
      "metadata": {
        "colab": {
          "base_uri": "https://localhost:8080/"
        },
        "id": "fmgl4Me_IZ-r",
        "outputId": "a9467aed-c0b4-401d-cff4-8ca561dd5eda"
      },
      "execution_count": null,
      "outputs": [
        {
          "output_type": "stream",
          "name": "stdout",
          "text": [
            "Iuri Nascimento Santos\n"
          ]
        }
      ]
    },
    {
      "cell_type": "markdown",
      "source": [
        "Imprimindo meu nome com identificação e letras iniciais em maíusculo"
      ],
      "metadata": {
        "id": "gODnJEm4IttD"
      }
    },
    {
      "cell_type": "code",
      "source": [
        "nome = ['iuri', 'nascimento', 'santos']\n",
        "print(\"Meu primeiro nome é: \" + nome[0].title() + \". Meu sobrenome do meio é: \" + nome[1].title() + \". Meu último sobrenome é: \" + nome[2].title())"
      ],
      "metadata": {
        "colab": {
          "base_uri": "https://localhost:8080/"
        },
        "id": "-9A0kybjIt0K",
        "outputId": "c829e07b-113c-4c5f-9db1-356dbc6ddffb"
      },
      "execution_count": null,
      "outputs": [
        {
          "output_type": "stream",
          "name": "stdout",
          "text": [
            "Meu primeiro nome é: Iuri. Meu sobrenome do meio é: Nascimento. Meu último sobrenome é: Santos\n"
          ]
        }
      ]
    },
    {
      "cell_type": "markdown",
      "source": [
        "É possível mudar um valor da lista"
      ],
      "metadata": {
        "id": "G6q7Ts9pJV5j"
      }
    },
    {
      "cell_type": "code",
      "source": [
        "nome = ['iuri', 'nascimento', 'santos']\n",
        "nome[0] = 'professor'\n",
        "print(nome[0].title(), nome[2].title())"
      ],
      "metadata": {
        "colab": {
          "base_uri": "https://localhost:8080/"
        },
        "id": "nPzBiNB2JWDy",
        "outputId": "d028df29-b284-484b-c0ca-0315cb4bfb79"
      },
      "execution_count": null,
      "outputs": [
        {
          "output_type": "stream",
          "name": "stdout",
          "text": [
            "Professor Santos\n"
          ]
        }
      ]
    },
    {
      "cell_type": "markdown",
      "source": [
        "Para adicionar valor em uma lista:"
      ],
      "metadata": {
        "id": "ZpUMhQhrKFkU"
      }
    },
    {
      "cell_type": "code",
      "source": [
        "nome = ['iuri', 'nascimento']\n",
        "nome.append('santos')\n",
        "print(nome)"
      ],
      "metadata": {
        "colab": {
          "base_uri": "https://localhost:8080/"
        },
        "id": "gY4okoaEKFvU",
        "outputId": "704a0cbf-3515-477b-9781-cc54c7954f52"
      },
      "execution_count": null,
      "outputs": [
        {
          "output_type": "stream",
          "name": "stdout",
          "text": [
            "['iuri', 'nascimento', 'santos']\n"
          ]
        }
      ]
    },
    {
      "cell_type": "markdown",
      "source": [
        "Adicionar um valor em uma lista com o elemento escolhendo o índice que o representará:"
      ],
      "metadata": {
        "id": "DAwOIuFCKVeS"
      }
    },
    {
      "cell_type": "code",
      "source": [
        "nome = ['nascimento', 'santos']\n",
        "nome.insert(0, 'iuri')\n",
        "print(nome)"
      ],
      "metadata": {
        "colab": {
          "base_uri": "https://localhost:8080/"
        },
        "id": "EYCcQFlyKVnq",
        "outputId": "d275d22e-805e-4a8e-ab8d-406fb8a69be5"
      },
      "execution_count": null,
      "outputs": [
        {
          "output_type": "stream",
          "name": "stdout",
          "text": [
            "['iuri', 'nascimento', 'santos']\n"
          ]
        }
      ]
    },
    {
      "cell_type": "markdown",
      "source": [
        "Adicionar dois valores para o mesmo índice, dá certo?"
      ],
      "metadata": {
        "id": "zoHZDCzsKw8E"
      }
    },
    {
      "cell_type": "code",
      "source": [
        "nome = ['nascimento', 'santos']\n",
        "nome.insert(0, 'iuri')\n",
        "nome.insert(0, 'professor')\n",
        "print(nome)"
      ],
      "metadata": {
        "colab": {
          "base_uri": "https://localhost:8080/"
        },
        "id": "GcOS2pDmKxEj",
        "outputId": "f813baa5-7d13-4889-d952-c99c75ae11aa"
      },
      "execution_count": null,
      "outputs": [
        {
          "output_type": "stream",
          "name": "stdout",
          "text": [
            "['professor', 'iuri', 'nascimento', 'santos']\n"
          ]
        }
      ]
    },
    {
      "cell_type": "markdown",
      "source": [
        "Deletar um valor da lista:"
      ],
      "metadata": {
        "id": "UuUTv3gDLJpb"
      }
    },
    {
      "cell_type": "code",
      "source": [
        "nome = ['professor', 'iuri', 'nascimento', 'santos']\n",
        "del nome[0]\n",
        "print(nome)"
      ],
      "metadata": {
        "colab": {
          "base_uri": "https://localhost:8080/"
        },
        "id": "vjVQI8KQLJw6",
        "outputId": "bd98905e-bb48-44ca-acf9-c1c834c8915c"
      },
      "execution_count": null,
      "outputs": [
        {
          "output_type": "stream",
          "name": "stdout",
          "text": [
            "['iuri', 'nascimento', 'santos']\n"
          ]
        }
      ]
    },
    {
      "cell_type": "markdown",
      "source": [
        "Removendo de acordo com o valor do índice:"
      ],
      "metadata": {
        "id": "JDt_A1NXLyWC"
      }
    },
    {
      "cell_type": "code",
      "source": [
        "nome = ['professor', 'iuri', 'nascimento', 'santos']\n",
        "nome.remove('professor')\n",
        "print(nome)"
      ],
      "metadata": {
        "colab": {
          "base_uri": "https://localhost:8080/"
        },
        "id": "4b7AK8ATLyf0",
        "outputId": "ceaf668d-aab5-4a1d-f4ec-c73dec0262dd"
      },
      "execution_count": null,
      "outputs": [
        {
          "output_type": "stream",
          "name": "stdout",
          "text": [
            "['iuri', 'nascimento', 'santos']\n"
          ]
        }
      ]
    },
    {
      "cell_type": "markdown",
      "source": [
        "Removendo um valor indicando ele primeiramente para uma variável:"
      ],
      "metadata": {
        "id": "ot7LggECMWSC"
      }
    },
    {
      "cell_type": "code",
      "source": [
        "nome = ['professor', 'iuri', 'nascimento', 'santos']\n",
        "muitolindo = 'professor'\n",
        "print(nome)\n",
        "print(\"\\n O \" + muitolindo.title() + \" é muito lindo e por isso não pode estar mais na lista\")"
      ],
      "metadata": {
        "colab": {
          "base_uri": "https://localhost:8080/"
        },
        "id": "RZKzHiCmMWbq",
        "outputId": "ef14d04f-148c-4379-84dd-d96de15e1b39"
      },
      "execution_count": null,
      "outputs": [
        {
          "output_type": "stream",
          "name": "stdout",
          "text": [
            "['professor', 'iuri', 'nascimento', 'santos']\n",
            "\n",
            " O Professor é muito lindo e por isso não pode estar mais na lista\n"
          ]
        }
      ]
    },
    {
      "cell_type": "markdown",
      "source": [
        "Inserindo valores numéricos inteiros (int) e com ponto flutuante (float)\n"
      ],
      "metadata": {
        "id": "yjWAdE6-7KZ8"
      }
    },
    {
      "cell_type": "code",
      "source": [
        ""
      ],
      "metadata": {
        "id": "VZKkMQn87U2k"
      },
      "execution_count": null,
      "outputs": []
    }
  ]
}